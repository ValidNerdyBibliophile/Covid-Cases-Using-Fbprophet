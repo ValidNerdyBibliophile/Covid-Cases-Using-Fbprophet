{
 "cells": [
  {
   "cell_type": "code",
   "execution_count": 1,
   "id": "9013d6de",
   "metadata": {},
   "outputs": [],
   "source": [
    "import pandas as pd"
   ]
  },
  {
   "cell_type": "code",
   "execution_count": 2,
   "id": "3ac9e832",
   "metadata": {},
   "outputs": [],
   "source": [
    "data = pd.read_csv(\"covid.csv\")"
   ]
  },
  {
   "cell_type": "code",
   "execution_count": 3,
   "id": "88fbcc23",
   "metadata": {},
   "outputs": [
    {
     "data": {
      "text/html": [
       "<div>\n",
       "<style scoped>\n",
       "    .dataframe tbody tr th:only-of-type {\n",
       "        vertical-align: middle;\n",
       "    }\n",
       "\n",
       "    .dataframe tbody tr th {\n",
       "        vertical-align: top;\n",
       "    }\n",
       "\n",
       "    .dataframe thead th {\n",
       "        text-align: right;\n",
       "    }\n",
       "</style>\n",
       "<table border=\"1\" class=\"dataframe\">\n",
       "  <thead>\n",
       "    <tr style=\"text-align: right;\">\n",
       "      <th></th>\n",
       "      <th>Province/State</th>\n",
       "      <th>Country/Region</th>\n",
       "      <th>Lat</th>\n",
       "      <th>Long</th>\n",
       "      <th>Date</th>\n",
       "      <th>Confirmed</th>\n",
       "      <th>Deaths</th>\n",
       "      <th>Recovered</th>\n",
       "      <th>Active</th>\n",
       "      <th>WHO Region</th>\n",
       "    </tr>\n",
       "  </thead>\n",
       "  <tbody>\n",
       "    <tr>\n",
       "      <th>0</th>\n",
       "      <td>NaN</td>\n",
       "      <td>Afghanistan</td>\n",
       "      <td>33.93911</td>\n",
       "      <td>67.709953</td>\n",
       "      <td>2020-01-22</td>\n",
       "      <td>0</td>\n",
       "      <td>0</td>\n",
       "      <td>0</td>\n",
       "      <td>0</td>\n",
       "      <td>Eastern Mediterranean</td>\n",
       "    </tr>\n",
       "    <tr>\n",
       "      <th>1</th>\n",
       "      <td>NaN</td>\n",
       "      <td>Albania</td>\n",
       "      <td>41.15330</td>\n",
       "      <td>20.168300</td>\n",
       "      <td>2020-01-22</td>\n",
       "      <td>0</td>\n",
       "      <td>0</td>\n",
       "      <td>0</td>\n",
       "      <td>0</td>\n",
       "      <td>Europe</td>\n",
       "    </tr>\n",
       "    <tr>\n",
       "      <th>2</th>\n",
       "      <td>NaN</td>\n",
       "      <td>Algeria</td>\n",
       "      <td>28.03390</td>\n",
       "      <td>1.659600</td>\n",
       "      <td>2020-01-22</td>\n",
       "      <td>0</td>\n",
       "      <td>0</td>\n",
       "      <td>0</td>\n",
       "      <td>0</td>\n",
       "      <td>Africa</td>\n",
       "    </tr>\n",
       "    <tr>\n",
       "      <th>3</th>\n",
       "      <td>NaN</td>\n",
       "      <td>Andorra</td>\n",
       "      <td>42.50630</td>\n",
       "      <td>1.521800</td>\n",
       "      <td>2020-01-22</td>\n",
       "      <td>0</td>\n",
       "      <td>0</td>\n",
       "      <td>0</td>\n",
       "      <td>0</td>\n",
       "      <td>Europe</td>\n",
       "    </tr>\n",
       "    <tr>\n",
       "      <th>4</th>\n",
       "      <td>NaN</td>\n",
       "      <td>Angola</td>\n",
       "      <td>-11.20270</td>\n",
       "      <td>17.873900</td>\n",
       "      <td>2020-01-22</td>\n",
       "      <td>0</td>\n",
       "      <td>0</td>\n",
       "      <td>0</td>\n",
       "      <td>0</td>\n",
       "      <td>Africa</td>\n",
       "    </tr>\n",
       "  </tbody>\n",
       "</table>\n",
       "</div>"
      ],
      "text/plain": [
       "  Province/State Country/Region       Lat       Long        Date  Confirmed  \\\n",
       "0            NaN    Afghanistan  33.93911  67.709953  2020-01-22          0   \n",
       "1            NaN        Albania  41.15330  20.168300  2020-01-22          0   \n",
       "2            NaN        Algeria  28.03390   1.659600  2020-01-22          0   \n",
       "3            NaN        Andorra  42.50630   1.521800  2020-01-22          0   \n",
       "4            NaN         Angola -11.20270  17.873900  2020-01-22          0   \n",
       "\n",
       "   Deaths  Recovered  Active             WHO Region  \n",
       "0       0          0       0  Eastern Mediterranean  \n",
       "1       0          0       0                 Europe  \n",
       "2       0          0       0                 Africa  \n",
       "3       0          0       0                 Europe  \n",
       "4       0          0       0                 Africa  "
      ]
     },
     "execution_count": 3,
     "metadata": {},
     "output_type": "execute_result"
    }
   ],
   "source": [
    "data.head()"
   ]
  },
  {
   "cell_type": "code",
   "execution_count": 4,
   "id": "c004e7c1",
   "metadata": {},
   "outputs": [
    {
     "data": {
      "text/plain": [
       "(49068, 10)"
      ]
     },
     "execution_count": 4,
     "metadata": {},
     "output_type": "execute_result"
    }
   ],
   "source": [
    "data.shape"
   ]
  },
  {
   "cell_type": "markdown",
   "id": "f55aae91",
   "metadata": {},
   "source": [
    "### Data Pre-Processing"
   ]
  },
  {
   "cell_type": "code",
   "execution_count": 5,
   "id": "cc4e38e9",
   "metadata": {},
   "outputs": [
    {
     "data": {
      "text/plain": [
       "Province/State     object\n",
       "Country/Region     object\n",
       "Lat               float64\n",
       "Long              float64\n",
       "Date               object\n",
       "Confirmed           int64\n",
       "Deaths              int64\n",
       "Recovered           int64\n",
       "Active              int64\n",
       "WHO Region         object\n",
       "dtype: object"
      ]
     },
     "execution_count": 5,
     "metadata": {},
     "output_type": "execute_result"
    }
   ],
   "source": [
    "#datatype of each columns\n",
    "data.dtypes"
   ]
  },
  {
   "cell_type": "code",
   "execution_count": 6,
   "id": "66f9a60d",
   "metadata": {},
   "outputs": [],
   "source": [
    "data[\"Date\"] = pd.to_datetime(data[\"Date\"])"
   ]
  },
  {
   "cell_type": "code",
   "execution_count": 7,
   "id": "b3d5b098",
   "metadata": {},
   "outputs": [
    {
     "data": {
      "text/plain": [
       "Province/State            object\n",
       "Country/Region            object\n",
       "Lat                      float64\n",
       "Long                     float64\n",
       "Date              datetime64[ns]\n",
       "Confirmed                  int64\n",
       "Deaths                     int64\n",
       "Recovered                  int64\n",
       "Active                     int64\n",
       "WHO Region                object\n",
       "dtype: object"
      ]
     },
     "execution_count": 7,
     "metadata": {},
     "output_type": "execute_result"
    }
   ],
   "source": [
    "data.dtypes"
   ]
  },
  {
   "cell_type": "code",
   "execution_count": 8,
   "id": "3093b48b",
   "metadata": {},
   "outputs": [
    {
     "data": {
      "text/plain": [
       "Province/State    34404\n",
       "Country/Region        0\n",
       "Lat                   0\n",
       "Long                  0\n",
       "Date                  0\n",
       "Confirmed             0\n",
       "Deaths                0\n",
       "Recovered             0\n",
       "Active                0\n",
       "WHO Region            0\n",
       "dtype: int64"
      ]
     },
     "execution_count": 8,
     "metadata": {},
     "output_type": "execute_result"
    }
   ],
   "source": [
    "data.isnull().sum()"
   ]
  },
  {
   "cell_type": "code",
   "execution_count": 9,
   "id": "8754d5b8",
   "metadata": {},
   "outputs": [
    {
     "data": {
      "text/plain": [
       "188"
      ]
     },
     "execution_count": 9,
     "metadata": {},
     "output_type": "execute_result"
    }
   ],
   "source": [
    "data[\"Date\"].nunique()"
   ]
  },
  {
   "cell_type": "code",
   "execution_count": 10,
   "id": "8fd415fa",
   "metadata": {},
   "outputs": [
    {
     "name": "stderr",
     "output_type": "stream",
     "text": [
      "<ipython-input-10-6b058b366ade>:1: FutureWarning: Indexing with multiple keys (implicitly converted to a tuple of keys) will be deprecated, use a list instead.\n",
      "  total = data.groupby([\"Date\"])[\"Confirmed\", \"Deaths\",\"Recovered\",\"Active\"].sum().reset_index()\n"
     ]
    }
   ],
   "source": [
    "total = data.groupby([\"Date\"])[\"Confirmed\", \"Deaths\",\"Recovered\",\"Active\"].sum().reset_index()"
   ]
  },
  {
   "cell_type": "code",
   "execution_count": 11,
   "id": "749c2828",
   "metadata": {},
   "outputs": [
    {
     "data": {
      "text/html": [
       "<div>\n",
       "<style scoped>\n",
       "    .dataframe tbody tr th:only-of-type {\n",
       "        vertical-align: middle;\n",
       "    }\n",
       "\n",
       "    .dataframe tbody tr th {\n",
       "        vertical-align: top;\n",
       "    }\n",
       "\n",
       "    .dataframe thead th {\n",
       "        text-align: right;\n",
       "    }\n",
       "</style>\n",
       "<table border=\"1\" class=\"dataframe\">\n",
       "  <thead>\n",
       "    <tr style=\"text-align: right;\">\n",
       "      <th></th>\n",
       "      <th>Date</th>\n",
       "      <th>Confirmed</th>\n",
       "      <th>Deaths</th>\n",
       "      <th>Recovered</th>\n",
       "      <th>Active</th>\n",
       "    </tr>\n",
       "  </thead>\n",
       "  <tbody>\n",
       "    <tr>\n",
       "      <th>0</th>\n",
       "      <td>2020-01-22</td>\n",
       "      <td>555</td>\n",
       "      <td>17</td>\n",
       "      <td>28</td>\n",
       "      <td>510</td>\n",
       "    </tr>\n",
       "    <tr>\n",
       "      <th>1</th>\n",
       "      <td>2020-01-23</td>\n",
       "      <td>654</td>\n",
       "      <td>18</td>\n",
       "      <td>30</td>\n",
       "      <td>606</td>\n",
       "    </tr>\n",
       "    <tr>\n",
       "      <th>2</th>\n",
       "      <td>2020-01-24</td>\n",
       "      <td>941</td>\n",
       "      <td>26</td>\n",
       "      <td>36</td>\n",
       "      <td>879</td>\n",
       "    </tr>\n",
       "    <tr>\n",
       "      <th>3</th>\n",
       "      <td>2020-01-25</td>\n",
       "      <td>1434</td>\n",
       "      <td>42</td>\n",
       "      <td>39</td>\n",
       "      <td>1353</td>\n",
       "    </tr>\n",
       "    <tr>\n",
       "      <th>4</th>\n",
       "      <td>2020-01-26</td>\n",
       "      <td>2118</td>\n",
       "      <td>56</td>\n",
       "      <td>52</td>\n",
       "      <td>2010</td>\n",
       "    </tr>\n",
       "  </tbody>\n",
       "</table>\n",
       "</div>"
      ],
      "text/plain": [
       "        Date  Confirmed  Deaths  Recovered  Active\n",
       "0 2020-01-22        555      17         28     510\n",
       "1 2020-01-23        654      18         30     606\n",
       "2 2020-01-24        941      26         36     879\n",
       "3 2020-01-25       1434      42         39    1353\n",
       "4 2020-01-26       2118      56         52    2010"
      ]
     },
     "execution_count": 11,
     "metadata": {},
     "output_type": "execute_result"
    }
   ],
   "source": [
    "total.head()"
   ]
  },
  {
   "cell_type": "code",
   "execution_count": 12,
   "id": "207c9a2a",
   "metadata": {},
   "outputs": [
    {
     "data": {
      "text/plain": [
       "(188, 5)"
      ]
     },
     "execution_count": 12,
     "metadata": {},
     "output_type": "execute_result"
    }
   ],
   "source": [
    "total.shape"
   ]
  },
  {
   "cell_type": "markdown",
   "id": "a52a1516",
   "metadata": {},
   "source": [
    "#### Apply Prophet Model on Date"
   ]
  },
  {
   "cell_type": "code",
   "execution_count": 13,
   "id": "dd149c0a",
   "metadata": {},
   "outputs": [
    {
     "name": "stderr",
     "output_type": "stream",
     "text": [
      "Importing plotly failed. Interactive plots will not work.\n"
     ]
    }
   ],
   "source": [
    "from fbprophet import Prophet"
   ]
  },
  {
   "cell_type": "markdown",
   "id": "ceda27fd",
   "metadata": {},
   "source": [
    "In Prophet Model, a DataFrame must have a specific format. \n",
    "The first column must have the name ***ds and contain the date-times***. The second column must have the name ***\"y\" and contain the observations***."
   ]
  },
  {
   "cell_type": "code",
   "execution_count": 14,
   "id": "8903a31b",
   "metadata": {},
   "outputs": [],
   "source": [
    "df_prohet = total.rename(columns ={\"Date\":\"ds\",\"Confirmed\":\"y\"})"
   ]
  },
  {
   "cell_type": "code",
   "execution_count": 15,
   "id": "a8599da8",
   "metadata": {},
   "outputs": [
    {
     "data": {
      "text/html": [
       "<div>\n",
       "<style scoped>\n",
       "    .dataframe tbody tr th:only-of-type {\n",
       "        vertical-align: middle;\n",
       "    }\n",
       "\n",
       "    .dataframe tbody tr th {\n",
       "        vertical-align: top;\n",
       "    }\n",
       "\n",
       "    .dataframe thead th {\n",
       "        text-align: right;\n",
       "    }\n",
       "</style>\n",
       "<table border=\"1\" class=\"dataframe\">\n",
       "  <thead>\n",
       "    <tr style=\"text-align: right;\">\n",
       "      <th></th>\n",
       "      <th>ds</th>\n",
       "      <th>y</th>\n",
       "      <th>Deaths</th>\n",
       "      <th>Recovered</th>\n",
       "      <th>Active</th>\n",
       "    </tr>\n",
       "  </thead>\n",
       "  <tbody>\n",
       "    <tr>\n",
       "      <th>0</th>\n",
       "      <td>2020-01-22</td>\n",
       "      <td>555</td>\n",
       "      <td>17</td>\n",
       "      <td>28</td>\n",
       "      <td>510</td>\n",
       "    </tr>\n",
       "    <tr>\n",
       "      <th>1</th>\n",
       "      <td>2020-01-23</td>\n",
       "      <td>654</td>\n",
       "      <td>18</td>\n",
       "      <td>30</td>\n",
       "      <td>606</td>\n",
       "    </tr>\n",
       "    <tr>\n",
       "      <th>2</th>\n",
       "      <td>2020-01-24</td>\n",
       "      <td>941</td>\n",
       "      <td>26</td>\n",
       "      <td>36</td>\n",
       "      <td>879</td>\n",
       "    </tr>\n",
       "    <tr>\n",
       "      <th>3</th>\n",
       "      <td>2020-01-25</td>\n",
       "      <td>1434</td>\n",
       "      <td>42</td>\n",
       "      <td>39</td>\n",
       "      <td>1353</td>\n",
       "    </tr>\n",
       "    <tr>\n",
       "      <th>4</th>\n",
       "      <td>2020-01-26</td>\n",
       "      <td>2118</td>\n",
       "      <td>56</td>\n",
       "      <td>52</td>\n",
       "      <td>2010</td>\n",
       "    </tr>\n",
       "  </tbody>\n",
       "</table>\n",
       "</div>"
      ],
      "text/plain": [
       "          ds     y  Deaths  Recovered  Active\n",
       "0 2020-01-22   555      17         28     510\n",
       "1 2020-01-23   654      18         30     606\n",
       "2 2020-01-24   941      26         36     879\n",
       "3 2020-01-25  1434      42         39    1353\n",
       "4 2020-01-26  2118      56         52    2010"
      ]
     },
     "execution_count": 15,
     "metadata": {},
     "output_type": "execute_result"
    }
   ],
   "source": [
    "df_prohet.head()"
   ]
  },
  {
   "cell_type": "code",
   "execution_count": 16,
   "id": "05fb478a",
   "metadata": {},
   "outputs": [],
   "source": [
    "model = Prophet()"
   ]
  },
  {
   "cell_type": "code",
   "execution_count": 17,
   "id": "b6438f24",
   "metadata": {},
   "outputs": [
    {
     "name": "stderr",
     "output_type": "stream",
     "text": [
      "INFO:numexpr.utils:NumExpr defaulting to 4 threads.\n",
      "INFO:fbprophet:Disabling yearly seasonality. Run prophet with yearly_seasonality=True to override this.\n",
      "INFO:fbprophet:Disabling daily seasonality. Run prophet with daily_seasonality=True to override this.\n"
     ]
    },
    {
     "data": {
      "text/plain": [
       "<fbprophet.forecaster.Prophet at 0x1b8230c8700>"
      ]
     },
     "execution_count": 17,
     "metadata": {},
     "output_type": "execute_result"
    }
   ],
   "source": [
    "model.fit(df_prohet)"
   ]
  },
  {
   "cell_type": "markdown",
   "id": "fc7bf655",
   "metadata": {},
   "source": [
    "#### Create Future Data for predictions"
   ]
  },
  {
   "cell_type": "code",
   "execution_count": 18,
   "id": "5923f85f",
   "metadata": {},
   "outputs": [
    {
     "data": {
      "text/plain": [
       "OrderedDict([('weekly',\n",
       "              {'period': 7,\n",
       "               'fourier_order': 3,\n",
       "               'prior_scale': 10.0,\n",
       "               'mode': 'additive',\n",
       "               'condition_name': None})])"
      ]
     },
     "execution_count": 18,
     "metadata": {},
     "output_type": "execute_result"
    }
   ],
   "source": [
    "model.seasonalities"
   ]
  },
  {
   "cell_type": "code",
   "execution_count": 19,
   "id": "751a5609",
   "metadata": {},
   "outputs": [],
   "source": [
    "future = model.make_future_dataframe(periods = 30, freq = \"D\")"
   ]
  },
  {
   "cell_type": "code",
   "execution_count": 20,
   "id": "b1d058fb",
   "metadata": {},
   "outputs": [
    {
     "data": {
      "text/html": [
       "<div>\n",
       "<style scoped>\n",
       "    .dataframe tbody tr th:only-of-type {\n",
       "        vertical-align: middle;\n",
       "    }\n",
       "\n",
       "    .dataframe tbody tr th {\n",
       "        vertical-align: top;\n",
       "    }\n",
       "\n",
       "    .dataframe thead th {\n",
       "        text-align: right;\n",
       "    }\n",
       "</style>\n",
       "<table border=\"1\" class=\"dataframe\">\n",
       "  <thead>\n",
       "    <tr style=\"text-align: right;\">\n",
       "      <th></th>\n",
       "      <th>ds</th>\n",
       "    </tr>\n",
       "  </thead>\n",
       "  <tbody>\n",
       "    <tr>\n",
       "      <th>0</th>\n",
       "      <td>2020-01-22</td>\n",
       "    </tr>\n",
       "    <tr>\n",
       "      <th>1</th>\n",
       "      <td>2020-01-23</td>\n",
       "    </tr>\n",
       "    <tr>\n",
       "      <th>2</th>\n",
       "      <td>2020-01-24</td>\n",
       "    </tr>\n",
       "    <tr>\n",
       "      <th>3</th>\n",
       "      <td>2020-01-25</td>\n",
       "    </tr>\n",
       "    <tr>\n",
       "      <th>4</th>\n",
       "      <td>2020-01-26</td>\n",
       "    </tr>\n",
       "  </tbody>\n",
       "</table>\n",
       "</div>"
      ],
      "text/plain": [
       "          ds\n",
       "0 2020-01-22\n",
       "1 2020-01-23\n",
       "2 2020-01-24\n",
       "3 2020-01-25\n",
       "4 2020-01-26"
      ]
     },
     "execution_count": 20,
     "metadata": {},
     "output_type": "execute_result"
    }
   ],
   "source": [
    "future.head()"
   ]
  },
  {
   "cell_type": "code",
   "execution_count": 21,
   "id": "98cfa59a",
   "metadata": {},
   "outputs": [
    {
     "data": {
      "text/plain": [
       "(188, 5)"
      ]
     },
     "execution_count": 21,
     "metadata": {},
     "output_type": "execute_result"
    }
   ],
   "source": [
    "df_prohet.shape"
   ]
  },
  {
   "cell_type": "code",
   "execution_count": 22,
   "id": "0759a912",
   "metadata": {},
   "outputs": [
    {
     "data": {
      "text/plain": [
       "(218, 1)"
      ]
     },
     "execution_count": 22,
     "metadata": {},
     "output_type": "execute_result"
    }
   ],
   "source": [
    "future.shape"
   ]
  },
  {
   "cell_type": "code",
   "execution_count": 23,
   "id": "cec5af6b",
   "metadata": {},
   "outputs": [
    {
     "data": {
      "text/html": [
       "<div>\n",
       "<style scoped>\n",
       "    .dataframe tbody tr th:only-of-type {\n",
       "        vertical-align: middle;\n",
       "    }\n",
       "\n",
       "    .dataframe tbody tr th {\n",
       "        vertical-align: top;\n",
       "    }\n",
       "\n",
       "    .dataframe thead th {\n",
       "        text-align: right;\n",
       "    }\n",
       "</style>\n",
       "<table border=\"1\" class=\"dataframe\">\n",
       "  <thead>\n",
       "    <tr style=\"text-align: right;\">\n",
       "      <th></th>\n",
       "      <th>ds</th>\n",
       "      <th>y</th>\n",
       "      <th>Deaths</th>\n",
       "      <th>Recovered</th>\n",
       "      <th>Active</th>\n",
       "    </tr>\n",
       "  </thead>\n",
       "  <tbody>\n",
       "    <tr>\n",
       "      <th>183</th>\n",
       "      <td>2020-07-23</td>\n",
       "      <td>15510481</td>\n",
       "      <td>633506</td>\n",
       "      <td>8710969</td>\n",
       "      <td>6166006</td>\n",
       "    </tr>\n",
       "    <tr>\n",
       "      <th>184</th>\n",
       "      <td>2020-07-24</td>\n",
       "      <td>15791645</td>\n",
       "      <td>639650</td>\n",
       "      <td>8939705</td>\n",
       "      <td>6212290</td>\n",
       "    </tr>\n",
       "    <tr>\n",
       "      <th>185</th>\n",
       "      <td>2020-07-25</td>\n",
       "      <td>16047190</td>\n",
       "      <td>644517</td>\n",
       "      <td>9158743</td>\n",
       "      <td>6243930</td>\n",
       "    </tr>\n",
       "    <tr>\n",
       "      <th>186</th>\n",
       "      <td>2020-07-26</td>\n",
       "      <td>16251796</td>\n",
       "      <td>648621</td>\n",
       "      <td>9293464</td>\n",
       "      <td>6309711</td>\n",
       "    </tr>\n",
       "    <tr>\n",
       "      <th>187</th>\n",
       "      <td>2020-07-27</td>\n",
       "      <td>16480485</td>\n",
       "      <td>654036</td>\n",
       "      <td>9468087</td>\n",
       "      <td>6358362</td>\n",
       "    </tr>\n",
       "  </tbody>\n",
       "</table>\n",
       "</div>"
      ],
      "text/plain": [
       "            ds         y  Deaths  Recovered   Active\n",
       "183 2020-07-23  15510481  633506    8710969  6166006\n",
       "184 2020-07-24  15791645  639650    8939705  6212290\n",
       "185 2020-07-25  16047190  644517    9158743  6243930\n",
       "186 2020-07-26  16251796  648621    9293464  6309711\n",
       "187 2020-07-27  16480485  654036    9468087  6358362"
      ]
     },
     "execution_count": 23,
     "metadata": {},
     "output_type": "execute_result"
    }
   ],
   "source": [
    "df_prohet.tail()"
   ]
  },
  {
   "cell_type": "code",
   "execution_count": 24,
   "id": "02239dac",
   "metadata": {},
   "outputs": [
    {
     "data": {
      "text/html": [
       "<div>\n",
       "<style scoped>\n",
       "    .dataframe tbody tr th:only-of-type {\n",
       "        vertical-align: middle;\n",
       "    }\n",
       "\n",
       "    .dataframe tbody tr th {\n",
       "        vertical-align: top;\n",
       "    }\n",
       "\n",
       "    .dataframe thead th {\n",
       "        text-align: right;\n",
       "    }\n",
       "</style>\n",
       "<table border=\"1\" class=\"dataframe\">\n",
       "  <thead>\n",
       "    <tr style=\"text-align: right;\">\n",
       "      <th></th>\n",
       "      <th>ds</th>\n",
       "    </tr>\n",
       "  </thead>\n",
       "  <tbody>\n",
       "    <tr>\n",
       "      <th>213</th>\n",
       "      <td>2020-08-22</td>\n",
       "    </tr>\n",
       "    <tr>\n",
       "      <th>214</th>\n",
       "      <td>2020-08-23</td>\n",
       "    </tr>\n",
       "    <tr>\n",
       "      <th>215</th>\n",
       "      <td>2020-08-24</td>\n",
       "    </tr>\n",
       "    <tr>\n",
       "      <th>216</th>\n",
       "      <td>2020-08-25</td>\n",
       "    </tr>\n",
       "    <tr>\n",
       "      <th>217</th>\n",
       "      <td>2020-08-26</td>\n",
       "    </tr>\n",
       "  </tbody>\n",
       "</table>\n",
       "</div>"
      ],
      "text/plain": [
       "            ds\n",
       "213 2020-08-22\n",
       "214 2020-08-23\n",
       "215 2020-08-24\n",
       "216 2020-08-25\n",
       "217 2020-08-26"
      ]
     },
     "execution_count": 24,
     "metadata": {},
     "output_type": "execute_result"
    }
   ],
   "source": [
    "future.tail()"
   ]
  },
  {
   "cell_type": "markdown",
   "id": "d8228a11",
   "metadata": {},
   "source": [
    "#### Predictions On The Future Data"
   ]
  },
  {
   "cell_type": "code",
   "execution_count": 25,
   "id": "ebd25bfe",
   "metadata": {},
   "outputs": [
    {
     "data": {
      "text/html": [
       "<div>\n",
       "<style scoped>\n",
       "    .dataframe tbody tr th:only-of-type {\n",
       "        vertical-align: middle;\n",
       "    }\n",
       "\n",
       "    .dataframe tbody tr th {\n",
       "        vertical-align: top;\n",
       "    }\n",
       "\n",
       "    .dataframe thead th {\n",
       "        text-align: right;\n",
       "    }\n",
       "</style>\n",
       "<table border=\"1\" class=\"dataframe\">\n",
       "  <thead>\n",
       "    <tr style=\"text-align: right;\">\n",
       "      <th></th>\n",
       "      <th>ds</th>\n",
       "      <th>trend</th>\n",
       "      <th>yhat_lower</th>\n",
       "      <th>yhat_upper</th>\n",
       "      <th>trend_lower</th>\n",
       "      <th>trend_upper</th>\n",
       "      <th>additive_terms</th>\n",
       "      <th>additive_terms_lower</th>\n",
       "      <th>additive_terms_upper</th>\n",
       "      <th>weekly</th>\n",
       "      <th>weekly_lower</th>\n",
       "      <th>weekly_upper</th>\n",
       "      <th>multiplicative_terms</th>\n",
       "      <th>multiplicative_terms_lower</th>\n",
       "      <th>multiplicative_terms_upper</th>\n",
       "      <th>yhat</th>\n",
       "    </tr>\n",
       "  </thead>\n",
       "  <tbody>\n",
       "    <tr>\n",
       "      <th>0</th>\n",
       "      <td>2020-01-22</td>\n",
       "      <td>-1.063986e+04</td>\n",
       "      <td>-1.210248e+05</td>\n",
       "      <td>7.910090e+04</td>\n",
       "      <td>-1.063986e+04</td>\n",
       "      <td>-1.063986e+04</td>\n",
       "      <td>-10982.447793</td>\n",
       "      <td>-10982.447793</td>\n",
       "      <td>-10982.447793</td>\n",
       "      <td>-10982.447793</td>\n",
       "      <td>-10982.447793</td>\n",
       "      <td>-10982.447793</td>\n",
       "      <td>0.0</td>\n",
       "      <td>0.0</td>\n",
       "      <td>0.0</td>\n",
       "      <td>-2.162230e+04</td>\n",
       "    </tr>\n",
       "    <tr>\n",
       "      <th>1</th>\n",
       "      <td>2020-01-23</td>\n",
       "      <td>-7.901275e+03</td>\n",
       "      <td>-1.064714e+05</td>\n",
       "      <td>9.855283e+04</td>\n",
       "      <td>-7.901275e+03</td>\n",
       "      <td>-7.901275e+03</td>\n",
       "      <td>-1076.670504</td>\n",
       "      <td>-1076.670504</td>\n",
       "      <td>-1076.670504</td>\n",
       "      <td>-1076.670504</td>\n",
       "      <td>-1076.670504</td>\n",
       "      <td>-1076.670504</td>\n",
       "      <td>0.0</td>\n",
       "      <td>0.0</td>\n",
       "      <td>0.0</td>\n",
       "      <td>-8.977945e+03</td>\n",
       "    </tr>\n",
       "    <tr>\n",
       "      <th>2</th>\n",
       "      <td>2020-01-24</td>\n",
       "      <td>-5.162694e+03</td>\n",
       "      <td>-9.858846e+04</td>\n",
       "      <td>1.070154e+05</td>\n",
       "      <td>-5.162694e+03</td>\n",
       "      <td>-5.162694e+03</td>\n",
       "      <td>10097.471121</td>\n",
       "      <td>10097.471121</td>\n",
       "      <td>10097.471121</td>\n",
       "      <td>10097.471121</td>\n",
       "      <td>10097.471121</td>\n",
       "      <td>10097.471121</td>\n",
       "      <td>0.0</td>\n",
       "      <td>0.0</td>\n",
       "      <td>0.0</td>\n",
       "      <td>4.934777e+03</td>\n",
       "    </tr>\n",
       "    <tr>\n",
       "      <th>3</th>\n",
       "      <td>2020-01-25</td>\n",
       "      <td>-2.424113e+03</td>\n",
       "      <td>-9.737239e+04</td>\n",
       "      <td>1.237880e+05</td>\n",
       "      <td>-2.424113e+03</td>\n",
       "      <td>-2.424113e+03</td>\n",
       "      <td>13741.427160</td>\n",
       "      <td>13741.427160</td>\n",
       "      <td>13741.427160</td>\n",
       "      <td>13741.427160</td>\n",
       "      <td>13741.427160</td>\n",
       "      <td>13741.427160</td>\n",
       "      <td>0.0</td>\n",
       "      <td>0.0</td>\n",
       "      <td>0.0</td>\n",
       "      <td>1.131731e+04</td>\n",
       "    </tr>\n",
       "    <tr>\n",
       "      <th>4</th>\n",
       "      <td>2020-01-26</td>\n",
       "      <td>3.144674e+02</td>\n",
       "      <td>-9.744601e+04</td>\n",
       "      <td>1.130385e+05</td>\n",
       "      <td>3.144674e+02</td>\n",
       "      <td>3.144674e+02</td>\n",
       "      <td>7236.701390</td>\n",
       "      <td>7236.701390</td>\n",
       "      <td>7236.701390</td>\n",
       "      <td>7236.701390</td>\n",
       "      <td>7236.701390</td>\n",
       "      <td>7236.701390</td>\n",
       "      <td>0.0</td>\n",
       "      <td>0.0</td>\n",
       "      <td>0.0</td>\n",
       "      <td>7.551169e+03</td>\n",
       "    </tr>\n",
       "    <tr>\n",
       "      <th>...</th>\n",
       "      <td>...</td>\n",
       "      <td>...</td>\n",
       "      <td>...</td>\n",
       "      <td>...</td>\n",
       "      <td>...</td>\n",
       "      <td>...</td>\n",
       "      <td>...</td>\n",
       "      <td>...</td>\n",
       "      <td>...</td>\n",
       "      <td>...</td>\n",
       "      <td>...</td>\n",
       "      <td>...</td>\n",
       "      <td>...</td>\n",
       "      <td>...</td>\n",
       "      <td>...</td>\n",
       "      <td>...</td>\n",
       "    </tr>\n",
       "    <tr>\n",
       "      <th>213</th>\n",
       "      <td>2020-08-22</td>\n",
       "      <td>2.144058e+07</td>\n",
       "      <td>2.109011e+07</td>\n",
       "      <td>2.176914e+07</td>\n",
       "      <td>2.107684e+07</td>\n",
       "      <td>2.176118e+07</td>\n",
       "      <td>13741.427160</td>\n",
       "      <td>13741.427160</td>\n",
       "      <td>13741.427160</td>\n",
       "      <td>13741.427160</td>\n",
       "      <td>13741.427160</td>\n",
       "      <td>13741.427160</td>\n",
       "      <td>0.0</td>\n",
       "      <td>0.0</td>\n",
       "      <td>0.0</td>\n",
       "      <td>2.145432e+07</td>\n",
       "    </tr>\n",
       "    <tr>\n",
       "      <th>214</th>\n",
       "      <td>2020-08-23</td>\n",
       "      <td>2.164466e+07</td>\n",
       "      <td>2.123888e+07</td>\n",
       "      <td>2.201428e+07</td>\n",
       "      <td>2.125595e+07</td>\n",
       "      <td>2.199089e+07</td>\n",
       "      <td>7236.701390</td>\n",
       "      <td>7236.701390</td>\n",
       "      <td>7236.701390</td>\n",
       "      <td>7236.701390</td>\n",
       "      <td>7236.701390</td>\n",
       "      <td>7236.701390</td>\n",
       "      <td>0.0</td>\n",
       "      <td>0.0</td>\n",
       "      <td>0.0</td>\n",
       "      <td>2.165190e+07</td>\n",
       "    </tr>\n",
       "    <tr>\n",
       "      <th>215</th>\n",
       "      <td>2020-08-24</td>\n",
       "      <td>2.184875e+07</td>\n",
       "      <td>2.143283e+07</td>\n",
       "      <td>2.223194e+07</td>\n",
       "      <td>2.144327e+07</td>\n",
       "      <td>2.221077e+07</td>\n",
       "      <td>-2165.964784</td>\n",
       "      <td>-2165.964784</td>\n",
       "      <td>-2165.964784</td>\n",
       "      <td>-2165.964784</td>\n",
       "      <td>-2165.964784</td>\n",
       "      <td>-2165.964784</td>\n",
       "      <td>0.0</td>\n",
       "      <td>0.0</td>\n",
       "      <td>0.0</td>\n",
       "      <td>2.184658e+07</td>\n",
       "    </tr>\n",
       "    <tr>\n",
       "      <th>216</th>\n",
       "      <td>2020-08-25</td>\n",
       "      <td>2.205283e+07</td>\n",
       "      <td>2.160034e+07</td>\n",
       "      <td>2.243362e+07</td>\n",
       "      <td>2.162352e+07</td>\n",
       "      <td>2.244258e+07</td>\n",
       "      <td>-16850.516589</td>\n",
       "      <td>-16850.516589</td>\n",
       "      <td>-16850.516589</td>\n",
       "      <td>-16850.516589</td>\n",
       "      <td>-16850.516589</td>\n",
       "      <td>-16850.516589</td>\n",
       "      <td>0.0</td>\n",
       "      <td>0.0</td>\n",
       "      <td>0.0</td>\n",
       "      <td>2.203598e+07</td>\n",
       "    </tr>\n",
       "    <tr>\n",
       "      <th>217</th>\n",
       "      <td>2020-08-26</td>\n",
       "      <td>2.225691e+07</td>\n",
       "      <td>2.176400e+07</td>\n",
       "      <td>2.265958e+07</td>\n",
       "      <td>2.180124e+07</td>\n",
       "      <td>2.266780e+07</td>\n",
       "      <td>-10982.447793</td>\n",
       "      <td>-10982.447793</td>\n",
       "      <td>-10982.447793</td>\n",
       "      <td>-10982.447793</td>\n",
       "      <td>-10982.447793</td>\n",
       "      <td>-10982.447793</td>\n",
       "      <td>0.0</td>\n",
       "      <td>0.0</td>\n",
       "      <td>0.0</td>\n",
       "      <td>2.224593e+07</td>\n",
       "    </tr>\n",
       "  </tbody>\n",
       "</table>\n",
       "<p>218 rows × 16 columns</p>\n",
       "</div>"
      ],
      "text/plain": [
       "            ds         trend    yhat_lower    yhat_upper   trend_lower  \\\n",
       "0   2020-01-22 -1.063986e+04 -1.210248e+05  7.910090e+04 -1.063986e+04   \n",
       "1   2020-01-23 -7.901275e+03 -1.064714e+05  9.855283e+04 -7.901275e+03   \n",
       "2   2020-01-24 -5.162694e+03 -9.858846e+04  1.070154e+05 -5.162694e+03   \n",
       "3   2020-01-25 -2.424113e+03 -9.737239e+04  1.237880e+05 -2.424113e+03   \n",
       "4   2020-01-26  3.144674e+02 -9.744601e+04  1.130385e+05  3.144674e+02   \n",
       "..         ...           ...           ...           ...           ...   \n",
       "213 2020-08-22  2.144058e+07  2.109011e+07  2.176914e+07  2.107684e+07   \n",
       "214 2020-08-23  2.164466e+07  2.123888e+07  2.201428e+07  2.125595e+07   \n",
       "215 2020-08-24  2.184875e+07  2.143283e+07  2.223194e+07  2.144327e+07   \n",
       "216 2020-08-25  2.205283e+07  2.160034e+07  2.243362e+07  2.162352e+07   \n",
       "217 2020-08-26  2.225691e+07  2.176400e+07  2.265958e+07  2.180124e+07   \n",
       "\n",
       "      trend_upper  additive_terms  additive_terms_lower  additive_terms_upper  \\\n",
       "0   -1.063986e+04   -10982.447793         -10982.447793         -10982.447793   \n",
       "1   -7.901275e+03    -1076.670504          -1076.670504          -1076.670504   \n",
       "2   -5.162694e+03    10097.471121          10097.471121          10097.471121   \n",
       "3   -2.424113e+03    13741.427160          13741.427160          13741.427160   \n",
       "4    3.144674e+02     7236.701390           7236.701390           7236.701390   \n",
       "..            ...             ...                   ...                   ...   \n",
       "213  2.176118e+07    13741.427160          13741.427160          13741.427160   \n",
       "214  2.199089e+07     7236.701390           7236.701390           7236.701390   \n",
       "215  2.221077e+07    -2165.964784          -2165.964784          -2165.964784   \n",
       "216  2.244258e+07   -16850.516589         -16850.516589         -16850.516589   \n",
       "217  2.266780e+07   -10982.447793         -10982.447793         -10982.447793   \n",
       "\n",
       "           weekly  weekly_lower  weekly_upper  multiplicative_terms  \\\n",
       "0   -10982.447793 -10982.447793 -10982.447793                   0.0   \n",
       "1    -1076.670504  -1076.670504  -1076.670504                   0.0   \n",
       "2    10097.471121  10097.471121  10097.471121                   0.0   \n",
       "3    13741.427160  13741.427160  13741.427160                   0.0   \n",
       "4     7236.701390   7236.701390   7236.701390                   0.0   \n",
       "..            ...           ...           ...                   ...   \n",
       "213  13741.427160  13741.427160  13741.427160                   0.0   \n",
       "214   7236.701390   7236.701390   7236.701390                   0.0   \n",
       "215  -2165.964784  -2165.964784  -2165.964784                   0.0   \n",
       "216 -16850.516589 -16850.516589 -16850.516589                   0.0   \n",
       "217 -10982.447793 -10982.447793 -10982.447793                   0.0   \n",
       "\n",
       "     multiplicative_terms_lower  multiplicative_terms_upper          yhat  \n",
       "0                           0.0                         0.0 -2.162230e+04  \n",
       "1                           0.0                         0.0 -8.977945e+03  \n",
       "2                           0.0                         0.0  4.934777e+03  \n",
       "3                           0.0                         0.0  1.131731e+04  \n",
       "4                           0.0                         0.0  7.551169e+03  \n",
       "..                          ...                         ...           ...  \n",
       "213                         0.0                         0.0  2.145432e+07  \n",
       "214                         0.0                         0.0  2.165190e+07  \n",
       "215                         0.0                         0.0  2.184658e+07  \n",
       "216                         0.0                         0.0  2.203598e+07  \n",
       "217                         0.0                         0.0  2.224593e+07  \n",
       "\n",
       "[218 rows x 16 columns]"
      ]
     },
     "execution_count": 25,
     "metadata": {},
     "output_type": "execute_result"
    }
   ],
   "source": [
    "predictions = model.predict(future)\n",
    "predictions"
   ]
  },
  {
   "cell_type": "code",
   "execution_count": 26,
   "id": "69417968",
   "metadata": {},
   "outputs": [
    {
     "data": {
      "text/html": [
       "<div>\n",
       "<style scoped>\n",
       "    .dataframe tbody tr th:only-of-type {\n",
       "        vertical-align: middle;\n",
       "    }\n",
       "\n",
       "    .dataframe tbody tr th {\n",
       "        vertical-align: top;\n",
       "    }\n",
       "\n",
       "    .dataframe thead th {\n",
       "        text-align: right;\n",
       "    }\n",
       "</style>\n",
       "<table border=\"1\" class=\"dataframe\">\n",
       "  <thead>\n",
       "    <tr style=\"text-align: right;\">\n",
       "      <th></th>\n",
       "      <th>ds</th>\n",
       "      <th>yhat</th>\n",
       "      <th>yhat_lower</th>\n",
       "      <th>yhat_upper</th>\n",
       "    </tr>\n",
       "  </thead>\n",
       "  <tbody>\n",
       "    <tr>\n",
       "      <th>213</th>\n",
       "      <td>2020-08-22</td>\n",
       "      <td>2.145432e+07</td>\n",
       "      <td>2.109011e+07</td>\n",
       "      <td>2.176914e+07</td>\n",
       "    </tr>\n",
       "    <tr>\n",
       "      <th>214</th>\n",
       "      <td>2020-08-23</td>\n",
       "      <td>2.165190e+07</td>\n",
       "      <td>2.123888e+07</td>\n",
       "      <td>2.201428e+07</td>\n",
       "    </tr>\n",
       "    <tr>\n",
       "      <th>215</th>\n",
       "      <td>2020-08-24</td>\n",
       "      <td>2.184658e+07</td>\n",
       "      <td>2.143283e+07</td>\n",
       "      <td>2.223194e+07</td>\n",
       "    </tr>\n",
       "    <tr>\n",
       "      <th>216</th>\n",
       "      <td>2020-08-25</td>\n",
       "      <td>2.203598e+07</td>\n",
       "      <td>2.160034e+07</td>\n",
       "      <td>2.243362e+07</td>\n",
       "    </tr>\n",
       "    <tr>\n",
       "      <th>217</th>\n",
       "      <td>2020-08-26</td>\n",
       "      <td>2.224593e+07</td>\n",
       "      <td>2.176400e+07</td>\n",
       "      <td>2.265958e+07</td>\n",
       "    </tr>\n",
       "  </tbody>\n",
       "</table>\n",
       "</div>"
      ],
      "text/plain": [
       "            ds          yhat    yhat_lower    yhat_upper\n",
       "213 2020-08-22  2.145432e+07  2.109011e+07  2.176914e+07\n",
       "214 2020-08-23  2.165190e+07  2.123888e+07  2.201428e+07\n",
       "215 2020-08-24  2.184658e+07  2.143283e+07  2.223194e+07\n",
       "216 2020-08-25  2.203598e+07  2.160034e+07  2.243362e+07\n",
       "217 2020-08-26  2.224593e+07  2.176400e+07  2.265958e+07"
      ]
     },
     "execution_count": 26,
     "metadata": {},
     "output_type": "execute_result"
    }
   ],
   "source": [
    "predictions[[\"ds\",\"yhat\",\"yhat_lower\",\"yhat_upper\"]].tail()"
   ]
  },
  {
   "cell_type": "markdown",
   "id": "a35fe03c",
   "metadata": {},
   "source": [
    "#### Visualize Predictions"
   ]
  },
  {
   "cell_type": "code",
   "execution_count": 27,
   "id": "5eed4974",
   "metadata": {},
   "outputs": [
    {
     "data": {
      "image/png": "[encoded data removed]",
      "text/plain": [
       "<Figure size 720x432 with 1 Axes>"
      ]
     },
     "execution_count": 27,
     "metadata": {},
     "output_type": "execute_result"
    },
    {
     "data": {
      "image/png": "[encoded data removed]",
      "text/plain": [
       "<Figure size 720x432 with 1 Axes>"
      ]
     },
     "metadata": {},
     "output_type": "display_data"
    }
   ],
   "source": [
    "model.plot(predictions)"
   ]
  },
  {
   "cell_type": "code",
   "execution_count": 28,
   "id": "40fbd2f4",
   "metadata": {},
   "outputs": [
    {
     "data": {
      "image/png": "[encoded data removed]",
      "text/plain": [
       "<Figure size 648x432 with 2 Axes>"
      ]
     },
     "execution_count": 28,
     "metadata": {},
     "output_type": "execute_result"
    },
    {
     "data": {
      "image/png": "[encoded data removed]",
      "text/plain": [
       "<Figure size 648x432 with 2 Axes>"
      ]
     },
     "metadata": {},
     "output_type": "display_data"
    }
   ],
   "source": [
    "model.plot_components(predictions)"
   ]
  },
  {
   "cell_type": "markdown",
   "id": "12b38764",
   "metadata": {},
   "source": [
    "#### Trend Change Points"
   ]
  },
  {
   "cell_type": "code",
   "execution_count": 29,
   "id": "6cd30786",
   "metadata": {},
   "outputs": [],
   "source": [
    "from fbprophet.plot import add_changepoints_to_plot"
   ]
  },
  {
   "cell_type": "code",
   "execution_count": 30,
   "id": "6b07adab",
   "metadata": {},
   "outputs": [
    {
     "data": {
      "text/plain": [
       "[[<matplotlib.lines.Line2D at 0x1b8266081f0>],\n",
       " <matplotlib.lines.Line2D at 0x1b826795550>,\n",
       " <matplotlib.lines.Line2D at 0x1b826795fd0>,\n",
       " <matplotlib.lines.Line2D at 0x1b82678cd30>,\n",
       " <matplotlib.lines.Line2D at 0x1b82678c7c0>,\n",
       " <matplotlib.lines.Line2D at 0x1b82678cdf0>,\n",
       " <matplotlib.lines.Line2D at 0x1b8267a5df0>,\n",
       " <matplotlib.lines.Line2D at 0x1b826784280>,\n",
       " <matplotlib.lines.Line2D at 0x1b8267a5a30>,\n",
       " <matplotlib.lines.Line2D at 0x1b82679dbb0>,\n",
       " <matplotlib.lines.Line2D at 0x1b82679d640>,\n",
       " <matplotlib.lines.Line2D at 0x1b82679d130>]"
      ]
     },
     "execution_count": 30,
     "metadata": {},
     "output_type": "execute_result"
    },
    {
     "data": {
      "image/png": "[encoded data removed]",
      "text/plain": [
       "<Figure size 720x432 with 1 Axes>"
      ]
     },
     "metadata": {},
     "output_type": "display_data"
    }
   ],
   "source": [
    "fig = model.plot(predictions)\n",
    "add_changepoints_to_plot(fig.gca(), model, predictions)"
   ]
  },
  {
   "cell_type": "markdown",
   "id": "cd3f3c03",
   "metadata": {},
   "source": [
    "#### Cross Validating The Predictions"
   ]
  },
  {
   "cell_type": "code",
   "execution_count": 31,
   "id": "e28197fe",
   "metadata": {},
   "outputs": [],
   "source": [
    "from fbprophet.diagnostics import cross_validation"
   ]
  },
  {
   "cell_type": "code",
   "execution_count": 32,
   "id": "998c8d8c",
   "metadata": {},
   "outputs": [
    {
     "name": "stderr",
     "output_type": "stream",
     "text": [
      "INFO:fbprophet:Making 3 forecasts with cutoffs between 2020-04-28 00:00:00 and 2020-06-27 00:00:00\n"
     ]
    },
    {
     "data": {
      "application/vnd.jupyter.widget-view+json": {
       "model_id": "bd554709a1834281af0992dff86085a8",
       "version_major": 2,
       "version_minor": 0
      },
      "text/plain": [
       "  0%|          | 0/3 [00:00<?, ?it/s]"
      ]
     },
     "metadata": {},
     "output_type": "display_data"
    }
   ],
   "source": [
    "cv = cross_validation(model, horizon = \"30 days\", period = \"30 days\", initial = \"90 days\" )"
   ]
  },
  {
   "cell_type": "code",
   "execution_count": 33,
   "id": "f7c15755",
   "metadata": {},
   "outputs": [
    {
     "data": {
      "text/html": [
       "<div>\n",
       "<style scoped>\n",
       "    .dataframe tbody tr th:only-of-type {\n",
       "        vertical-align: middle;\n",
       "    }\n",
       "\n",
       "    .dataframe tbody tr th {\n",
       "        vertical-align: top;\n",
       "    }\n",
       "\n",
       "    .dataframe thead th {\n",
       "        text-align: right;\n",
       "    }\n",
       "</style>\n",
       "<table border=\"1\" class=\"dataframe\">\n",
       "  <thead>\n",
       "    <tr style=\"text-align: right;\">\n",
       "      <th></th>\n",
       "      <th>ds</th>\n",
       "      <th>yhat</th>\n",
       "      <th>yhat_lower</th>\n",
       "      <th>yhat_upper</th>\n",
       "      <th>y</th>\n",
       "      <th>cutoff</th>\n",
       "    </tr>\n",
       "  </thead>\n",
       "  <tbody>\n",
       "    <tr>\n",
       "      <th>0</th>\n",
       "      <td>2020-04-29</td>\n",
       "      <td>3.201064e+06</td>\n",
       "      <td>3.196139e+06</td>\n",
       "      <td>3.205955e+06</td>\n",
       "      <td>3185195</td>\n",
       "      <td>2020-04-28</td>\n",
       "    </tr>\n",
       "    <tr>\n",
       "      <th>1</th>\n",
       "      <td>2020-04-30</td>\n",
       "      <td>3.285432e+06</td>\n",
       "      <td>3.279811e+06</td>\n",
       "      <td>3.291853e+06</td>\n",
       "      <td>3268876</td>\n",
       "      <td>2020-04-28</td>\n",
       "    </tr>\n",
       "    <tr>\n",
       "      <th>2</th>\n",
       "      <td>2020-05-01</td>\n",
       "      <td>3.369640e+06</td>\n",
       "      <td>3.361779e+06</td>\n",
       "      <td>3.378606e+06</td>\n",
       "      <td>3355922</td>\n",
       "      <td>2020-04-28</td>\n",
       "    </tr>\n",
       "    <tr>\n",
       "      <th>3</th>\n",
       "      <td>2020-05-02</td>\n",
       "      <td>3.450902e+06</td>\n",
       "      <td>3.439583e+06</td>\n",
       "      <td>3.463735e+06</td>\n",
       "      <td>3437608</td>\n",
       "      <td>2020-04-28</td>\n",
       "    </tr>\n",
       "    <tr>\n",
       "      <th>4</th>\n",
       "      <td>2020-05-03</td>\n",
       "      <td>3.530365e+06</td>\n",
       "      <td>3.515339e+06</td>\n",
       "      <td>3.549644e+06</td>\n",
       "      <td>3515244</td>\n",
       "      <td>2020-04-28</td>\n",
       "    </tr>\n",
       "  </tbody>\n",
       "</table>\n",
       "</div>"
      ],
      "text/plain": [
       "          ds          yhat    yhat_lower    yhat_upper        y     cutoff\n",
       "0 2020-04-29  3.201064e+06  3.196139e+06  3.205955e+06  3185195 2020-04-28\n",
       "1 2020-04-30  3.285432e+06  3.279811e+06  3.291853e+06  3268876 2020-04-28\n",
       "2 2020-05-01  3.369640e+06  3.361779e+06  3.378606e+06  3355922 2020-04-28\n",
       "3 2020-05-02  3.450902e+06  3.439583e+06  3.463735e+06  3437608 2020-04-28\n",
       "4 2020-05-03  3.530365e+06  3.515339e+06  3.549644e+06  3515244 2020-04-28"
      ]
     },
     "execution_count": 33,
     "metadata": {},
     "output_type": "execute_result"
    }
   ],
   "source": [
    "cv.head()"
   ]
  },
  {
   "cell_type": "code",
   "execution_count": 34,
   "id": "1de2451c",
   "metadata": {},
   "outputs": [
    {
     "data": {
      "text/plain": [
       "(90, 6)"
      ]
     },
     "execution_count": 34,
     "metadata": {},
     "output_type": "execute_result"
    }
   ],
   "source": [
    "cv.shape"
   ]
  },
  {
   "cell_type": "markdown",
   "id": "c4d34b70",
   "metadata": {},
   "source": [
    "#### Obtain Performance Matrix"
   ]
  },
  {
   "cell_type": "code",
   "execution_count": 35,
   "id": "75bcc532",
   "metadata": {},
   "outputs": [],
   "source": [
    "from fbprophet.diagnostics import performance_metrics"
   ]
  },
  {
   "cell_type": "code",
   "execution_count": 36,
   "id": "3234bf62",
   "metadata": {},
   "outputs": [],
   "source": [
    "performance = performance_metrics(cv)"
   ]
  },
  {
   "cell_type": "code",
   "execution_count": 37,
   "id": "fe800611",
   "metadata": {},
   "outputs": [
    {
     "data": {
      "text/html": [
       "<div>\n",
       "<style scoped>\n",
       "    .dataframe tbody tr th:only-of-type {\n",
       "        vertical-align: middle;\n",
       "    }\n",
       "\n",
       "    .dataframe tbody tr th {\n",
       "        vertical-align: top;\n",
       "    }\n",
       "\n",
       "    .dataframe thead th {\n",
       "        text-align: right;\n",
       "    }\n",
       "</style>\n",
       "<table border=\"1\" class=\"dataframe\">\n",
       "  <thead>\n",
       "    <tr style=\"text-align: right;\">\n",
       "      <th></th>\n",
       "      <th>horizon</th>\n",
       "      <th>mse</th>\n",
       "      <th>rmse</th>\n",
       "      <th>mae</th>\n",
       "      <th>mape</th>\n",
       "      <th>mdape</th>\n",
       "      <th>coverage</th>\n",
       "    </tr>\n",
       "  </thead>\n",
       "  <tbody>\n",
       "    <tr>\n",
       "      <th>0</th>\n",
       "      <td>3 days</td>\n",
       "      <td>3.608663e+10</td>\n",
       "      <td>189964.802922</td>\n",
       "      <td>148235.767249</td>\n",
       "      <td>0.018394</td>\n",
       "      <td>0.022953</td>\n",
       "      <td>0.000000</td>\n",
       "    </tr>\n",
       "    <tr>\n",
       "      <th>1</th>\n",
       "      <td>4 days</td>\n",
       "      <td>5.035347e+10</td>\n",
       "      <td>224395.786218</td>\n",
       "      <td>173897.427284</td>\n",
       "      <td>0.020999</td>\n",
       "      <td>0.025662</td>\n",
       "      <td>0.000000</td>\n",
       "    </tr>\n",
       "    <tr>\n",
       "      <th>2</th>\n",
       "      <td>5 days</td>\n",
       "      <td>6.982760e+10</td>\n",
       "      <td>264249.130185</td>\n",
       "      <td>202265.950207</td>\n",
       "      <td>0.023663</td>\n",
       "      <td>0.026660</td>\n",
       "      <td>0.000000</td>\n",
       "    </tr>\n",
       "    <tr>\n",
       "      <th>3</th>\n",
       "      <td>6 days</td>\n",
       "      <td>9.450776e+10</td>\n",
       "      <td>307421.150624</td>\n",
       "      <td>234494.421828</td>\n",
       "      <td>0.026730</td>\n",
       "      <td>0.031220</td>\n",
       "      <td>0.111111</td>\n",
       "    </tr>\n",
       "    <tr>\n",
       "      <th>4</th>\n",
       "      <td>7 days</td>\n",
       "      <td>1.208269e+11</td>\n",
       "      <td>347601.680717</td>\n",
       "      <td>266004.957941</td>\n",
       "      <td>0.029753</td>\n",
       "      <td>0.034872</td>\n",
       "      <td>0.222222</td>\n",
       "    </tr>\n",
       "  </tbody>\n",
       "</table>\n",
       "</div>"
      ],
      "text/plain": [
       "  horizon           mse           rmse            mae      mape     mdape  \\\n",
       "0  3 days  3.608663e+10  189964.802922  148235.767249  0.018394  0.022953   \n",
       "1  4 days  5.035347e+10  224395.786218  173897.427284  0.020999  0.025662   \n",
       "2  5 days  6.982760e+10  264249.130185  202265.950207  0.023663  0.026660   \n",
       "3  6 days  9.450776e+10  307421.150624  234494.421828  0.026730  0.031220   \n",
       "4  7 days  1.208269e+11  347601.680717  266004.957941  0.029753  0.034872   \n",
       "\n",
       "   coverage  \n",
       "0  0.000000  \n",
       "1  0.000000  \n",
       "2  0.000000  \n",
       "3  0.111111  \n",
       "4  0.222222  "
      ]
     },
     "execution_count": 37,
     "metadata": {},
     "output_type": "execute_result"
    }
   ],
   "source": [
    "performance.head()"
   ]
  },
  {
   "cell_type": "markdown",
   "id": "db815a86",
   "metadata": {},
   "source": [
    "***Root Mean Square Error (RMSE)*** is the square root of the average of the squared differences between the estimated and the actual value of the variable/feature"
   ]
  },
  {
   "cell_type": "code",
   "execution_count": 38,
   "id": "137728c4",
   "metadata": {},
   "outputs": [
    {
     "data": {
      "image/png": "[encoded data removed]",
      "text/plain": [
       "<Figure size 720x432 with 1 Axes>"
      ]
     },
     "metadata": {},
     "output_type": "display_data"
    }
   ],
   "source": [
    "from fbprophet.plot import plot_cross_validation_metric\n",
    "performance = plot_cross_validation_metric(cv, metric = \"rmse\")"
   ]
  },
  {
   "cell_type": "markdown",
   "id": "6097ebee",
   "metadata": {},
   "source": [
    "The ***Mean Squared Error (MSE)*** of an estimator measures the average of error squares i.e. the average squared difference between the estimated values and true value."
   ]
  },
  {
   "cell_type": "code",
   "execution_count": 39,
   "id": "b748a279",
   "metadata": {},
   "outputs": [
    {
     "data": {
      "image/png": "[encoded data removed]",
      "text/plain": [
       "<Figure size 720x432 with 1 Axes>"
      ]
     },
     "metadata": {},
     "output_type": "display_data"
    }
   ],
   "source": [
    "performance = plot_cross_validation_metric(cv, metric = \"mse\")"
   ]
  },
  {
   "cell_type": "code",
   "execution_count": null,
   "id": "086cdc59",
   "metadata": {},
   "outputs": [],
   "source": []
  }
 ],
 "metadata": {
  "kernelspec": {
   "display_name": "Python 3",
   "language": "python",
   "name": "python3"
  },
  "language_info": {
   "codemirror_mode": {
    "name": "ipython",
    "version": 3
   },
   "file_extension": ".py",
   "mimetype": "text/x-python",
   "name": "python",
   "nbconvert_exporter": "python",
   "pygments_lexer": "ipython3",
   "version": "3.8.8"
  }
 },
 "nbformat": 4,
 "nbformat_minor": 5
}
